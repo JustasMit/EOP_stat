{
 "cells": [
  {
   "cell_type": "code",
   "execution_count": 6,
   "metadata": {},
   "outputs": [],
   "source": [
    "kz = r\"C:\\Users\\justas.mitrofanovas\\Desktop\\EOP_stat\\jupiteris2.sde\\VP_SDE1.INFRASTR.KELIO_ZENKLAI\\VP_SDE1.INFRASTR.KZ\""
   ]
  },
  {
   "cell_type": "code",
   "execution_count": 7,
   "metadata": {},
   "outputs": [],
   "source": [
    "date = arcpy.MakeFeatureLayer_management(kz, \"Date_Temp\", \"last_edited_date > '{}'\".format('2021-11-26'))"
   ]
  },
  {
   "cell_type": "code",
   "execution_count": 33,
   "metadata": {},
   "outputs": [],
   "source": [
    "sukred_date = arcpy.MakeFeatureLayer_management(kz, \"SukRedDATE\", \"last_edited_date > '{}'\".format('2021-11-25'))"
   ]
  },
  {
   "cell_type": "code",
   "execution_count": 36,
   "metadata": {},
   "outputs": [],
   "source": [
    "sukred = arcpy.MakeFeatureLayer_management(sukred_date, \"SukRed\", \"(created_date IS NOT NULL and created_date = last_edited_date) or created_date <> last_edited_date and last_edited_date > '2021-11-15'\")"
   ]
  },
  {
   "cell_type": "code",
   "execution_count": 20,
   "metadata": {},
   "outputs": [
    {
     "data": {
      "text/plain": [
       "'2959'"
      ]
     },
     "execution_count": 20,
     "metadata": {},
     "output_type": "execute_result"
    }
   ],
   "source": [
    "count = arcpy.GetCount_management(sukred)\n",
    "count[0]"
   ]
  },
  {
   "cell_type": "code",
   "execution_count": 28,
   "metadata": {
    "scrolled": true
   },
   "outputs": [
    {
     "data": {
      "text/html": [
       "<h2>Output</h2>2934<h2>Messages</h2>Start Time: 2021 m. lapkričio 15 d., pirmadienis 13:00:26<br/>Succeeded at 2021 m. lapkričio 15 d., pirmadienis 13:00:33 (Elapsed Time: 6,85 seconds)<br/><style>.rendered_html td, .rendered_html th {text-align: left;}.rendered_html tbody {border: 1px solid black;}</style>"
      ],
      "text/plain": [
       "<Result '2934'>"
      ]
     },
     "execution_count": 28,
     "metadata": {},
     "output_type": "execute_result"
    }
   ],
   "source": [
    "arcpy.ImportToolbox(r\"C:\\Users\\justas.mitrofanovas\\Desktop\\EOP_stat\\EOP.tbx\")\n",
    "arcpy.EOP.KZtool(\"Sukurtas arba redaguotas\", \"Visa teritorija\", \"2021-11-15 11:11:11\")"
   ]
  },
  {
   "cell_type": "code",
   "execution_count": 58,
   "metadata": {},
   "outputs": [
    {
     "data": {
      "text/plain": [
       "{'visas': 0, 'a': 0, 'b': 0, 'asd': 0, 20: 0}"
      ]
     },
     "execution_count": 58,
     "metadata": {},
     "output_type": "execute_result"
    }
   ],
   "source": [
    "markings = {\"visas\": 0}\n",
    "listmark = [\"a\", \"b\", \"asd\", 20]\n",
    "temp_marking_dict = dict.fromkeys(listmark, 0)\n",
    "markings.update(temp_marking_dict)\n",
    "markings"
   ]
  },
  {
   "cell_type": "code",
   "execution_count": 44,
   "metadata": {},
   "outputs": [
    {
     "data": {
      "text/plain": [
       "['Kitas', 'Asfaltas', 'ASDwd']"
      ]
     },
     "execution_count": 44,
     "metadata": {},
     "output_type": "execute_result"
    }
   ],
   "source": [
    "dd = \"Kitas;Asfaltas;ASDwd\"\n",
    "marking_list = dd.split(\";\")\n",
    "marking_list"
   ]
  },
  {
   "cell_type": "code",
   "execution_count": 51,
   "metadata": {},
   "outputs": [
    {
     "data": {
      "text/plain": [
       "{'visas': 444, 'a': 0, 'b': 0, 'asd': 0}"
      ]
     },
     "execution_count": 51,
     "metadata": {},
     "output_type": "execute_result"
    }
   ],
   "source": [
    "markings[\"visas\"] += 222\n",
    "markings"
   ]
  },
  {
   "cell_type": "code",
   "execution_count": 63,
   "metadata": {},
   "outputs": [
    {
     "data": {
      "text/plain": [
       "{'visas': 0, 'a': 0, 'b': 0, 'asd': 0, 20: 0}"
      ]
     },
     "execution_count": 63,
     "metadata": {},
     "output_type": "execute_result"
    }
   ],
   "source": [
    "markings"
   ]
  },
  {
   "cell_type": "code",
   "execution_count": 4,
   "metadata": {},
   "outputs": [
    {
     "data": {
      "text/plain": [
       "'db\\\\lent\\\\tabl'"
      ]
     },
     "execution_count": 4,
     "metadata": {},
     "output_type": "execute_result"
    }
   ],
   "source": [
    "import os\n",
    "os.path.join(\"db\", os.path.join(\"lent\", \"tabl\"))"
   ]
  },
  {
   "cell_type": "code",
   "execution_count": 7,
   "metadata": {},
   "outputs": [
    {
     "name": "stdout",
     "output_type": "stream",
     "text": [
      "C:\\Users\\justas.mitrofanovas\\Desktop\\EOP_stat\\scratch.gdb\\asd\n"
     ]
    }
   ],
   "source": [
    "import arcpy\n",
    "print(arcpy.management.CreateFeatureDataset(arcpy.env.scratchGDB, \"asd\"))"
   ]
  },
  {
   "cell_type": "code",
   "execution_count": null,
   "metadata": {},
   "outputs": [],
   "source": []
  }
 ],
 "metadata": {
  "kernelspec": {
   "display_name": "ArcGISPro",
   "language": "Python",
   "name": "python3"
  },
  "language_info": {
   "file_extension": ".py",
   "name": "python",
   "version": "3"
  }
 },
 "nbformat": 4,
 "nbformat_minor": 2
}
