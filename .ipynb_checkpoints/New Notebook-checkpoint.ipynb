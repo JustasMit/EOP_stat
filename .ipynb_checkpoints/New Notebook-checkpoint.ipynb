{
 "cells": [
  {
   "cell_type": "code",
   "execution_count": 6,
   "metadata": {},
   "outputs": [],
   "source": [
    "kz = r\"C:\\Users\\justas.mitrofanovas\\Desktop\\EOP_stat\\jupiteris2.sde\\VP_SDE1.INFRASTR.KELIO_ZENKLAI\\VP_SDE1.INFRASTR.KZ\""
   ]
  },
  {
   "cell_type": "code",
   "execution_count": 7,
   "metadata": {},
   "outputs": [],
   "source": [
    "date = arcpy.MakeFeatureLayer_management(kz, \"Date_Temp\", \"last_edited_date > '{}'\".format('2021-11-26'))"
   ]
  },
  {
   "cell_type": "code",
   "execution_count": 23,
   "metadata": {},
   "outputs": [],
   "source": [
    "sukred_date = arcpy.MakeFeatureLayer_management(kz, \"SukRedDATE\", \"last_edited_date > '{}'\".format('2021-10-10'))"
   ]
  },
  {
   "cell_type": "code",
   "execution_count": 19,
   "metadata": {},
   "outputs": [],
   "source": [
    "sukred = arcpy.MakeFeatureLayer_management(sukred_date, \"SukRed\", \"(created_date IS NOT NULL and created_date = last_edited_date) or created_date <> last_edited_date\")"
   ]
  },
  {
   "cell_type": "code",
   "execution_count": 20,
   "metadata": {},
   "outputs": [
    {
     "data": {
      "text/plain": [
       "'2959'"
      ]
     },
     "execution_count": 20,
     "metadata": {},
     "output_type": "execute_result"
    }
   ],
   "source": [
    "count = arcpy.GetCount_management(sukred)\n",
    "count[0]"
   ]
  },
  {
   "cell_type": "code",
   "execution_count": 21,
   "metadata": {},
   "outputs": [
    {
     "data": {
      "text/html": [
       "<h2>Output</h2>2934<h2>Messages</h2>Start Time: 2021 m. lapkričio 15 d., pirmadienis 12:41:23<br/>Succeeded at 2021 m. lapkričio 15 d., pirmadienis 12:41:37 (Elapsed Time: 13,97 seconds)<br/><style>.rendered_html td, .rendered_html th {text-align: left;}.rendered_html tbody {border: 1px solid black;}</style>"
      ],
      "text/plain": [
       "<Result '2934'>"
      ]
     },
     "execution_count": 21,
     "metadata": {},
     "output_type": "execute_result"
    }
   ],
   "source": [
    "arcpy.ImportToolbox(r\"C:\\Users\\justas.mitrofanovas\\Desktop\\EOP_stat\\EOP.tbx\")\n",
    "arcpy.EOP.KZtool(\"Sukurtas arba redaguotas\", \"Visa teritorija\", \"2021-12-12\")"
   ]
  },
  {
   "cell_type": "code",
   "execution_count": null,
   "metadata": {},
   "outputs": [],
   "source": []
  }
 ],
 "metadata": {
  "kernelspec": {
   "display_name": "ArcGISPro",
   "language": "Python",
   "name": "python3"
  },
  "language_info": {
   "file_extension": ".py",
   "name": "python",
   "version": "3"
  }
 },
 "nbformat": 4,
 "nbformat_minor": 2
}
